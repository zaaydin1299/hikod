 #1. Yukarıdaki sözlüğü bir DataFrame haline getirin.
import pandas as pd

sozluk = {
    "Kategori": ["Giyim", "Giyim", "Ayakkabı", "Aksesuar", "Ayakkabı", "Giyim", "Aksesuar", "Aksesuar", "Ayakkabı", "Giyim"],
    "Ürün": ["Kazak", "T-shirt", "Sandalet", "Küpe", "Spor Ayakkabı", "Pantolon", "Kolye", "Yüzük", "Çizme", "Ceket"],
    "Fiyat": [300, 180, 450, 50, 700, 400, 150, 80, 850, 900]
}

df = pd.DataFrame(sozluk)
df
 # 2. Aşağıdaki işlemleri dataframe üzerinde uygulayalım.
# - Giyim kategorisinde bulunan ürünleri gösterin
print("Giyim kategorisi:")
print(df[df["Kategori"] == "Giyim"])

# - Ayakkabı kategorisinde bulunan ürünleri gösterin
print("\nAyakkabı kategorisi:")
print(df[df["Kategori"] == "Ayakkabı"])

# - Aksesuar kategorisinde bulunan ürünleri gösterin
print("\nAksesuar kategorisi:")
print(df[df["Kategori"] == "Aksesuar"])
 # 3. Aşağıdaki işlemleri dataframe üzerinde uygulayalım.
# - Giyim kategorisinde fiyatı 300'den fazla olan ürünleri gösterin
print("Giyim kategorisinde fiyatı 300'den fazla olan ürünler:")
print(df[(df["Kategori"] == "Giyim") & (df["Fiyat"] > 300)])

# - Ayakkabı kategorisinde fiyatı 600'den az olan ürünleri gösterin
print("\nAyakkabı kategorisinde fiyatı 600'den az olan ürünler:")
print(df[(df["Kategori"] == "Ayakkabı") & (df["Fiyat"] < 600)])

# - Aksesuar kategorisinde fiyatı 100'den fazla olan aksesuarı gösterin
print("\nFiyatı 100'den fazla olan aksesuarlar:")
print(df[(df["Kategori"] == "Aksesuar") & (df["Fiyat"] > 100)])